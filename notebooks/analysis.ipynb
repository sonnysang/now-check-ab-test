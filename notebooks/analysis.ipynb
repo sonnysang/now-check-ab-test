{
 "cells": [
  {
   "cell_type": "markdown",
   "id": "2e6b958e",
   "metadata": {},
   "source": [
    "# 📊 NOW Account A/B Testing Analysis\n",
    "\n",
    "This notebook analyzes the effectiveness of the newly launched NOW check account using simulated data."
   ]
  },
  {
   "cell_type": "code",
   "execution_count": 6,
   "id": "c10dcd91",
   "metadata": {},
   "outputs": [
    {
     "data": {
      "text/html": [
       "<div>\n",
       "<style scoped>\n",
       "    .dataframe tbody tr th:only-of-type {\n",
       "        vertical-align: middle;\n",
       "    }\n",
       "\n",
       "    .dataframe tbody tr th {\n",
       "        vertical-align: top;\n",
       "    }\n",
       "\n",
       "    .dataframe thead th {\n",
       "        text-align: right;\n",
       "    }\n",
       "</style>\n",
       "<table border=\"1\" class=\"dataframe\">\n",
       "  <thead>\n",
       "    <tr style=\"text-align: right;\">\n",
       "      <th></th>\n",
       "      <th>customer_id</th>\n",
       "      <th>application_date</th>\n",
       "      <th>is_now_account</th>\n",
       "      <th>received_bonus</th>\n",
       "      <th>redeemed_bonus</th>\n",
       "      <th>initial_deposit</th>\n",
       "      <th>retained_60_days</th>\n",
       "    </tr>\n",
       "  </thead>\n",
       "  <tbody>\n",
       "    <tr>\n",
       "      <th>0</th>\n",
       "      <td>1</td>\n",
       "      <td>2025-04-13</td>\n",
       "      <td>True</td>\n",
       "      <td>True</td>\n",
       "      <td>True</td>\n",
       "      <td>1049.260106</td>\n",
       "      <td>True</td>\n",
       "    </tr>\n",
       "    <tr>\n",
       "      <th>1</th>\n",
       "      <td>2</td>\n",
       "      <td>2025-02-21</td>\n",
       "      <td>False</td>\n",
       "      <td>False</td>\n",
       "      <td>False</td>\n",
       "      <td>1013.874719</td>\n",
       "      <td>True</td>\n",
       "    </tr>\n",
       "    <tr>\n",
       "      <th>2</th>\n",
       "      <td>3</td>\n",
       "      <td>2025-04-03</td>\n",
       "      <td>True</td>\n",
       "      <td>True</td>\n",
       "      <td>False</td>\n",
       "      <td>1697.460884</td>\n",
       "      <td>True</td>\n",
       "    </tr>\n",
       "    <tr>\n",
       "      <th>3</th>\n",
       "      <td>4</td>\n",
       "      <td>2025-01-15</td>\n",
       "      <td>False</td>\n",
       "      <td>False</td>\n",
       "      <td>False</td>\n",
       "      <td>915.898088</td>\n",
       "      <td>True</td>\n",
       "    </tr>\n",
       "    <tr>\n",
       "      <th>4</th>\n",
       "      <td>5</td>\n",
       "      <td>2025-04-17</td>\n",
       "      <td>True</td>\n",
       "      <td>True</td>\n",
       "      <td>True</td>\n",
       "      <td>1291.927392</td>\n",
       "      <td>False</td>\n",
       "    </tr>\n",
       "  </tbody>\n",
       "</table>\n",
       "</div>"
      ],
      "text/plain": [
       "   customer_id application_date  is_now_account  received_bonus  \\\n",
       "0            1       2025-04-13            True            True   \n",
       "1            2       2025-02-21           False           False   \n",
       "2            3       2025-04-03            True            True   \n",
       "3            4       2025-01-15           False           False   \n",
       "4            5       2025-04-17            True            True   \n",
       "\n",
       "   redeemed_bonus  initial_deposit  retained_60_days  \n",
       "0            True      1049.260106              True  \n",
       "1           False      1013.874719              True  \n",
       "2           False      1697.460884              True  \n",
       "3           False       915.898088              True  \n",
       "4            True      1291.927392             False  "
      ]
     },
     "execution_count": 6,
     "metadata": {},
     "output_type": "execute_result"
    }
   ],
   "source": [
    "import pandas as pd\n",
    "import numpy as np\n",
    "import matplotlib.pyplot as plt\n",
    "import seaborn as sns\n",
    "from scipy.stats import ttest_ind\n",
    "from statsmodels.stats.proportion import proportions_ztest\n",
    "\n",
    "# Load the simulated dataset\n",
    "df = pd.read_csv('../data/Simulated_NOW_Account_Data.csv')\n",
    "df.head()"
   ]
  },
  {
   "cell_type": "markdown",
   "id": "21ee6573",
   "metadata": {},
   "source": [
    "## 🎯 Key Questions\n",
    "- Did NOW accounts lead to higher initial deposits?\n",
    "- Did NOW customers retain better after 60 days?\n",
    "- Were bonuses redeemed and did that correlate with retention?"
   ]
  },
  {
   "cell_type": "code",
   "execution_count": 7,
   "id": "c5955d2e",
   "metadata": {},
   "outputs": [
    {
     "data": {
      "text/html": [
       "<div>\n",
       "<style scoped>\n",
       "    .dataframe tbody tr th:only-of-type {\n",
       "        vertical-align: middle;\n",
       "    }\n",
       "\n",
       "    .dataframe tbody tr th {\n",
       "        vertical-align: top;\n",
       "    }\n",
       "\n",
       "    .dataframe thead th {\n",
       "        text-align: right;\n",
       "    }\n",
       "</style>\n",
       "<table border=\"1\" class=\"dataframe\">\n",
       "  <thead>\n",
       "    <tr style=\"text-align: right;\">\n",
       "      <th></th>\n",
       "      <th>count</th>\n",
       "      <th>avg_deposit</th>\n",
       "      <th>retention_rate</th>\n",
       "      <th>bonus_redemption_rate</th>\n",
       "    </tr>\n",
       "    <tr>\n",
       "      <th>is_now_account</th>\n",
       "      <th></th>\n",
       "      <th></th>\n",
       "      <th></th>\n",
       "      <th></th>\n",
       "    </tr>\n",
       "  </thead>\n",
       "  <tbody>\n",
       "    <tr>\n",
       "      <th>False</th>\n",
       "      <td>3489</td>\n",
       "      <td>999.472716</td>\n",
       "      <td>0.603898</td>\n",
       "      <td>0.000000</td>\n",
       "    </tr>\n",
       "    <tr>\n",
       "      <th>True</th>\n",
       "      <td>1511</td>\n",
       "      <td>1500.619187</td>\n",
       "      <td>0.759100</td>\n",
       "      <td>0.592323</td>\n",
       "    </tr>\n",
       "  </tbody>\n",
       "</table>\n",
       "</div>"
      ],
      "text/plain": [
       "                count  avg_deposit  retention_rate  bonus_redemption_rate\n",
       "is_now_account                                                           \n",
       "False            3489   999.472716        0.603898               0.000000\n",
       "True             1511  1500.619187        0.759100               0.592323"
      ]
     },
     "execution_count": 7,
     "metadata": {},
     "output_type": "execute_result"
    }
   ],
   "source": [
    "# Summary statistics\n",
    "summary = df.groupby('is_now_account').agg(\n",
    "    count=('customer_id', 'count'),\n",
    "    avg_deposit=('initial_deposit', 'mean'),\n",
    "    retention_rate=('retained_60_days', 'mean'),\n",
    "    bonus_redemption_rate=('redeemed_bonus', 'mean')\n",
    ")\n",
    "summary"
   ]
  },
  {
   "cell_type": "code",
   "execution_count": 8,
   "id": "d8786e15",
   "metadata": {},
   "outputs": [
    {
     "name": "stdout",
     "output_type": "stream",
     "text": [
      "Z-statistic: -10.5714, p-value: 0.0000\n"
     ]
    }
   ],
   "source": [
    "# Z-test for retention\n",
    "retention_counts = df.groupby('is_now_account')['retained_60_days'].sum()\n",
    "retention_totals = df.groupby('is_now_account')['retained_60_days'].count()\n",
    "\n",
    "z_stat, p_val = proportions_ztest(count=retention_counts, nobs=retention_totals)\n",
    "print(f'Z-statistic: {z_stat:.4f}, p-value: {p_val:.4f}')"
   ]
  },
  {
   "cell_type": "code",
   "execution_count": 9,
   "id": "4e77d0d6",
   "metadata": {},
   "outputs": [
    {
     "name": "stdout",
     "output_type": "stream",
     "text": [
      "T-statistic: 43.7307, p-value: 0.0000\n"
     ]
    }
   ],
   "source": [
    "# T-test for initial deposit\n",
    "dep_now = df[df['is_now_account'] == True]['initial_deposit']\n",
    "dep_non = df[df['is_now_account'] == False]['initial_deposit']\n",
    "t_stat, p_val = ttest_ind(dep_now, dep_non)\n",
    "print(f'T-statistic: {t_stat:.4f}, p-value: {p_val:.4f}')"
   ]
  },
  {
   "cell_type": "code",
   "execution_count": 10,
   "id": "e9255381",
   "metadata": {},
   "outputs": [
    {
     "data": {
      "image/png": "[encoded data removed]",
      "text/plain": [
       "<Figure size 432x288 with 1 Axes>"
      ]
     },
     "metadata": {
      "needs_background": "light"
     },
     "output_type": "display_data"
    }
   ],
   "source": [
    "# Bonus redemption impact on retention\n",
    "bonus_grouped = df.groupby('redeemed_bonus')['retained_60_days'].mean()\n",
    "bonus_grouped.plot(kind='bar', title='Retention by Bonus Redemption')\n",
    "plt.ylabel('Retention Rate')\n",
    "plt.show()"
   ]
  },
  {
   "cell_type": "markdown",
   "id": "df200f0d",
   "metadata": {},
   "source": [
    "## 📌 Conclusion\n",
    "- Retention and deposits are significantly higher among NOW account holders.\n",
    "- Bonus redemption positively correlates with retention.\n",
    "\n",
    "👉 Recommend scaling NOW account and refining bonus targeting."
   ]
  }
 ],
 "metadata": {
  "kernelspec": {
   "display_name": "base",
   "language": "python",
   "name": "python3"
  },
  "language_info": {
   "codemirror_mode": {
    "name": "ipython",
    "version": 3
   },
   "file_extension": ".py",
   "mimetype": "text/x-python",
   "name": "python",
   "nbconvert_exporter": "python",
   "pygments_lexer": "ipython3",
   "version": "3.8.8"
  }
 },
 "nbformat": 4,
 "nbformat_minor": 5
}
